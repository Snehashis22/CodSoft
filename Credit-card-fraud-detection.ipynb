{
 "cells": [
  {
   "cell_type": "markdown",
   "id": "836c2912-17a2-44b2-8d8d-17ba3bc55ad5",
   "metadata": {},
   "source": [
    "# Credit card fraud detection"
   ]
  },
  {
   "cell_type": "code",
   "execution_count": 27,
   "id": "ece547f9-08cc-4bef-91b2-9ed135b29421",
   "metadata": {},
   "outputs": [],
   "source": [
    "import numpy as np\n",
    "import pandas as pd\n",
    "import matplotlib.pyplot as plt\n",
    "import sklearn\n",
    "from sklearn.ensemble import RandomForestClassifier\n",
    "from sklearn import tree\n",
    "from sklearn.model_selection import train_test_split\n",
    "from sklearn.metrics import accuracy_score,confusion_matrix,classification_report\n",
    "from sklearn.metrics import precision_score,recall_score,f1_score"
   ]
  },
  {
   "cell_type": "markdown",
   "id": "f5be10b0-09ba-4937-bd0d-b6b376bcb1e5",
   "metadata": {},
   "source": [
    "### Import data"
   ]
  },
  {
   "cell_type": "code",
   "execution_count": 3,
   "id": "598f7438-a04c-43b7-ae96-e7ce27671b49",
   "metadata": {},
   "outputs": [],
   "source": [
    "df_train=pd.read_csv(\"fraudTrain.csv\")\n",
    "df_test=pd.read_csv(\"fraudTest.csv\")"
   ]
  },
  {
   "cell_type": "code",
   "execution_count": 4,
   "id": "542ebf54-1284-464c-9d17-90244c5c736d",
   "metadata": {},
   "outputs": [
    {
     "data": {
      "text/html": [
       "<div>\n",
       "<style scoped>\n",
       "    .dataframe tbody tr th:only-of-type {\n",
       "        vertical-align: middle;\n",
       "    }\n",
       "\n",
       "    .dataframe tbody tr th {\n",
       "        vertical-align: top;\n",
       "    }\n",
       "\n",
       "    .dataframe thead th {\n",
       "        text-align: right;\n",
       "    }\n",
       "</style>\n",
       "<table border=\"1\" class=\"dataframe\">\n",
       "  <thead>\n",
       "    <tr style=\"text-align: right;\">\n",
       "      <th></th>\n",
       "      <th>Unnamed: 0</th>\n",
       "      <th>trans_date_trans_time</th>\n",
       "      <th>cc_num</th>\n",
       "      <th>merchant</th>\n",
       "      <th>category</th>\n",
       "      <th>amt</th>\n",
       "      <th>first</th>\n",
       "      <th>last</th>\n",
       "      <th>gender</th>\n",
       "      <th>street</th>\n",
       "      <th>...</th>\n",
       "      <th>lat</th>\n",
       "      <th>long</th>\n",
       "      <th>city_pop</th>\n",
       "      <th>job</th>\n",
       "      <th>dob</th>\n",
       "      <th>trans_num</th>\n",
       "      <th>unix_time</th>\n",
       "      <th>merch_lat</th>\n",
       "      <th>merch_long</th>\n",
       "      <th>is_fraud</th>\n",
       "    </tr>\n",
       "  </thead>\n",
       "  <tbody>\n",
       "    <tr>\n",
       "      <th>0</th>\n",
       "      <td>0</td>\n",
       "      <td>2019-01-01 00:00:18</td>\n",
       "      <td>2703186189652095</td>\n",
       "      <td>fraud_Rippin, Kub and Mann</td>\n",
       "      <td>misc_net</td>\n",
       "      <td>4.97</td>\n",
       "      <td>Jennifer</td>\n",
       "      <td>Banks</td>\n",
       "      <td>F</td>\n",
       "      <td>561 Perry Cove</td>\n",
       "      <td>...</td>\n",
       "      <td>36.0788</td>\n",
       "      <td>-81.1781</td>\n",
       "      <td>3495</td>\n",
       "      <td>Psychologist, counselling</td>\n",
       "      <td>1988-03-09</td>\n",
       "      <td>0b242abb623afc578575680df30655b9</td>\n",
       "      <td>1325376018</td>\n",
       "      <td>36.011293</td>\n",
       "      <td>-82.048315</td>\n",
       "      <td>0</td>\n",
       "    </tr>\n",
       "    <tr>\n",
       "      <th>1</th>\n",
       "      <td>1</td>\n",
       "      <td>2019-01-01 00:00:44</td>\n",
       "      <td>630423337322</td>\n",
       "      <td>fraud_Heller, Gutmann and Zieme</td>\n",
       "      <td>grocery_pos</td>\n",
       "      <td>107.23</td>\n",
       "      <td>Stephanie</td>\n",
       "      <td>Gill</td>\n",
       "      <td>F</td>\n",
       "      <td>43039 Riley Greens Suite 393</td>\n",
       "      <td>...</td>\n",
       "      <td>48.8878</td>\n",
       "      <td>-118.2105</td>\n",
       "      <td>149</td>\n",
       "      <td>Special educational needs teacher</td>\n",
       "      <td>1978-06-21</td>\n",
       "      <td>1f76529f8574734946361c461b024d99</td>\n",
       "      <td>1325376044</td>\n",
       "      <td>49.159047</td>\n",
       "      <td>-118.186462</td>\n",
       "      <td>0</td>\n",
       "    </tr>\n",
       "    <tr>\n",
       "      <th>2</th>\n",
       "      <td>2</td>\n",
       "      <td>2019-01-01 00:00:51</td>\n",
       "      <td>38859492057661</td>\n",
       "      <td>fraud_Lind-Buckridge</td>\n",
       "      <td>entertainment</td>\n",
       "      <td>220.11</td>\n",
       "      <td>Edward</td>\n",
       "      <td>Sanchez</td>\n",
       "      <td>M</td>\n",
       "      <td>594 White Dale Suite 530</td>\n",
       "      <td>...</td>\n",
       "      <td>42.1808</td>\n",
       "      <td>-112.2620</td>\n",
       "      <td>4154</td>\n",
       "      <td>Nature conservation officer</td>\n",
       "      <td>1962-01-19</td>\n",
       "      <td>a1a22d70485983eac12b5b88dad1cf95</td>\n",
       "      <td>1325376051</td>\n",
       "      <td>43.150704</td>\n",
       "      <td>-112.154481</td>\n",
       "      <td>0</td>\n",
       "    </tr>\n",
       "    <tr>\n",
       "      <th>3</th>\n",
       "      <td>3</td>\n",
       "      <td>2019-01-01 00:01:16</td>\n",
       "      <td>3534093764340240</td>\n",
       "      <td>fraud_Kutch, Hermiston and Farrell</td>\n",
       "      <td>gas_transport</td>\n",
       "      <td>45.00</td>\n",
       "      <td>Jeremy</td>\n",
       "      <td>White</td>\n",
       "      <td>M</td>\n",
       "      <td>9443 Cynthia Court Apt. 038</td>\n",
       "      <td>...</td>\n",
       "      <td>46.2306</td>\n",
       "      <td>-112.1138</td>\n",
       "      <td>1939</td>\n",
       "      <td>Patent attorney</td>\n",
       "      <td>1967-01-12</td>\n",
       "      <td>6b849c168bdad6f867558c3793159a81</td>\n",
       "      <td>1325376076</td>\n",
       "      <td>47.034331</td>\n",
       "      <td>-112.561071</td>\n",
       "      <td>0</td>\n",
       "    </tr>\n",
       "    <tr>\n",
       "      <th>4</th>\n",
       "      <td>4</td>\n",
       "      <td>2019-01-01 00:03:06</td>\n",
       "      <td>375534208663984</td>\n",
       "      <td>fraud_Keeling-Crist</td>\n",
       "      <td>misc_pos</td>\n",
       "      <td>41.96</td>\n",
       "      <td>Tyler</td>\n",
       "      <td>Garcia</td>\n",
       "      <td>M</td>\n",
       "      <td>408 Bradley Rest</td>\n",
       "      <td>...</td>\n",
       "      <td>38.4207</td>\n",
       "      <td>-79.4629</td>\n",
       "      <td>99</td>\n",
       "      <td>Dance movement psychotherapist</td>\n",
       "      <td>1986-03-28</td>\n",
       "      <td>a41d7549acf90789359a9aa5346dcb46</td>\n",
       "      <td>1325376186</td>\n",
       "      <td>38.674999</td>\n",
       "      <td>-78.632459</td>\n",
       "      <td>0</td>\n",
       "    </tr>\n",
       "    <tr>\n",
       "      <th>5</th>\n",
       "      <td>5</td>\n",
       "      <td>2019-01-01 00:04:08</td>\n",
       "      <td>4767265376804500</td>\n",
       "      <td>fraud_Stroman, Hudson and Erdman</td>\n",
       "      <td>gas_transport</td>\n",
       "      <td>94.63</td>\n",
       "      <td>Jennifer</td>\n",
       "      <td>Conner</td>\n",
       "      <td>F</td>\n",
       "      <td>4655 David Island</td>\n",
       "      <td>...</td>\n",
       "      <td>40.3750</td>\n",
       "      <td>-75.2045</td>\n",
       "      <td>2158</td>\n",
       "      <td>Transport planner</td>\n",
       "      <td>1961-06-19</td>\n",
       "      <td>189a841a0a8ba03058526bcfe566aab5</td>\n",
       "      <td>1325376248</td>\n",
       "      <td>40.653382</td>\n",
       "      <td>-76.152667</td>\n",
       "      <td>0</td>\n",
       "    </tr>\n",
       "    <tr>\n",
       "      <th>6</th>\n",
       "      <td>6</td>\n",
       "      <td>2019-01-01 00:04:42</td>\n",
       "      <td>30074693890476</td>\n",
       "      <td>fraud_Rowe-Vandervort</td>\n",
       "      <td>grocery_net</td>\n",
       "      <td>44.54</td>\n",
       "      <td>Kelsey</td>\n",
       "      <td>Richards</td>\n",
       "      <td>F</td>\n",
       "      <td>889 Sarah Station Suite 624</td>\n",
       "      <td>...</td>\n",
       "      <td>37.9931</td>\n",
       "      <td>-100.9893</td>\n",
       "      <td>2691</td>\n",
       "      <td>Arboriculturist</td>\n",
       "      <td>1993-08-16</td>\n",
       "      <td>83ec1cc84142af6e2acf10c44949e720</td>\n",
       "      <td>1325376282</td>\n",
       "      <td>37.162705</td>\n",
       "      <td>-100.153370</td>\n",
       "      <td>0</td>\n",
       "    </tr>\n",
       "    <tr>\n",
       "      <th>7</th>\n",
       "      <td>7</td>\n",
       "      <td>2019-01-01 00:05:08</td>\n",
       "      <td>6011360759745864</td>\n",
       "      <td>fraud_Corwin-Collins</td>\n",
       "      <td>gas_transport</td>\n",
       "      <td>71.65</td>\n",
       "      <td>Steven</td>\n",
       "      <td>Williams</td>\n",
       "      <td>M</td>\n",
       "      <td>231 Flores Pass Suite 720</td>\n",
       "      <td>...</td>\n",
       "      <td>38.8432</td>\n",
       "      <td>-78.6003</td>\n",
       "      <td>6018</td>\n",
       "      <td>Designer, multimedia</td>\n",
       "      <td>1947-08-21</td>\n",
       "      <td>6d294ed2cc447d2c71c7171a3d54967c</td>\n",
       "      <td>1325376308</td>\n",
       "      <td>38.948089</td>\n",
       "      <td>-78.540296</td>\n",
       "      <td>0</td>\n",
       "    </tr>\n",
       "    <tr>\n",
       "      <th>8</th>\n",
       "      <td>8</td>\n",
       "      <td>2019-01-01 00:05:18</td>\n",
       "      <td>4922710831011201</td>\n",
       "      <td>fraud_Herzog Ltd</td>\n",
       "      <td>misc_pos</td>\n",
       "      <td>4.27</td>\n",
       "      <td>Heather</td>\n",
       "      <td>Chase</td>\n",
       "      <td>F</td>\n",
       "      <td>6888 Hicks Stream Suite 954</td>\n",
       "      <td>...</td>\n",
       "      <td>40.3359</td>\n",
       "      <td>-79.6607</td>\n",
       "      <td>1472</td>\n",
       "      <td>Public affairs consultant</td>\n",
       "      <td>1941-03-07</td>\n",
       "      <td>fc28024ce480f8ef21a32d64c93a29f5</td>\n",
       "      <td>1325376318</td>\n",
       "      <td>40.351813</td>\n",
       "      <td>-79.958146</td>\n",
       "      <td>0</td>\n",
       "    </tr>\n",
       "    <tr>\n",
       "      <th>9</th>\n",
       "      <td>9</td>\n",
       "      <td>2019-01-01 00:06:01</td>\n",
       "      <td>2720830304681674</td>\n",
       "      <td>fraud_Schoen, Kuphal and Nitzsche</td>\n",
       "      <td>grocery_pos</td>\n",
       "      <td>198.39</td>\n",
       "      <td>Melissa</td>\n",
       "      <td>Aguilar</td>\n",
       "      <td>F</td>\n",
       "      <td>21326 Taylor Squares Suite 708</td>\n",
       "      <td>...</td>\n",
       "      <td>36.5220</td>\n",
       "      <td>-87.3490</td>\n",
       "      <td>151785</td>\n",
       "      <td>Pathologist</td>\n",
       "      <td>1974-03-28</td>\n",
       "      <td>3b9014ea8fb80bd65de0b1463b00b00e</td>\n",
       "      <td>1325376361</td>\n",
       "      <td>37.179198</td>\n",
       "      <td>-87.485381</td>\n",
       "      <td>0</td>\n",
       "    </tr>\n",
       "  </tbody>\n",
       "</table>\n",
       "<p>10 rows × 23 columns</p>\n",
       "</div>"
      ],
      "text/plain": [
       "   Unnamed: 0 trans_date_trans_time            cc_num  \\\n",
       "0           0   2019-01-01 00:00:18  2703186189652095   \n",
       "1           1   2019-01-01 00:00:44      630423337322   \n",
       "2           2   2019-01-01 00:00:51    38859492057661   \n",
       "3           3   2019-01-01 00:01:16  3534093764340240   \n",
       "4           4   2019-01-01 00:03:06   375534208663984   \n",
       "5           5   2019-01-01 00:04:08  4767265376804500   \n",
       "6           6   2019-01-01 00:04:42    30074693890476   \n",
       "7           7   2019-01-01 00:05:08  6011360759745864   \n",
       "8           8   2019-01-01 00:05:18  4922710831011201   \n",
       "9           9   2019-01-01 00:06:01  2720830304681674   \n",
       "\n",
       "                             merchant       category     amt      first  \\\n",
       "0          fraud_Rippin, Kub and Mann       misc_net    4.97   Jennifer   \n",
       "1     fraud_Heller, Gutmann and Zieme    grocery_pos  107.23  Stephanie   \n",
       "2                fraud_Lind-Buckridge  entertainment  220.11     Edward   \n",
       "3  fraud_Kutch, Hermiston and Farrell  gas_transport   45.00     Jeremy   \n",
       "4                 fraud_Keeling-Crist       misc_pos   41.96      Tyler   \n",
       "5    fraud_Stroman, Hudson and Erdman  gas_transport   94.63   Jennifer   \n",
       "6               fraud_Rowe-Vandervort    grocery_net   44.54     Kelsey   \n",
       "7                fraud_Corwin-Collins  gas_transport   71.65     Steven   \n",
       "8                    fraud_Herzog Ltd       misc_pos    4.27    Heather   \n",
       "9   fraud_Schoen, Kuphal and Nitzsche    grocery_pos  198.39    Melissa   \n",
       "\n",
       "       last gender                          street  ...      lat      long  \\\n",
       "0     Banks      F                  561 Perry Cove  ...  36.0788  -81.1781   \n",
       "1      Gill      F    43039 Riley Greens Suite 393  ...  48.8878 -118.2105   \n",
       "2   Sanchez      M        594 White Dale Suite 530  ...  42.1808 -112.2620   \n",
       "3     White      M     9443 Cynthia Court Apt. 038  ...  46.2306 -112.1138   \n",
       "4    Garcia      M                408 Bradley Rest  ...  38.4207  -79.4629   \n",
       "5    Conner      F               4655 David Island  ...  40.3750  -75.2045   \n",
       "6  Richards      F     889 Sarah Station Suite 624  ...  37.9931 -100.9893   \n",
       "7  Williams      M       231 Flores Pass Suite 720  ...  38.8432  -78.6003   \n",
       "8     Chase      F     6888 Hicks Stream Suite 954  ...  40.3359  -79.6607   \n",
       "9   Aguilar      F  21326 Taylor Squares Suite 708  ...  36.5220  -87.3490   \n",
       "\n",
       "   city_pop                                job         dob  \\\n",
       "0      3495          Psychologist, counselling  1988-03-09   \n",
       "1       149  Special educational needs teacher  1978-06-21   \n",
       "2      4154        Nature conservation officer  1962-01-19   \n",
       "3      1939                    Patent attorney  1967-01-12   \n",
       "4        99     Dance movement psychotherapist  1986-03-28   \n",
       "5      2158                  Transport planner  1961-06-19   \n",
       "6      2691                    Arboriculturist  1993-08-16   \n",
       "7      6018               Designer, multimedia  1947-08-21   \n",
       "8      1472          Public affairs consultant  1941-03-07   \n",
       "9    151785                        Pathologist  1974-03-28   \n",
       "\n",
       "                          trans_num   unix_time  merch_lat  merch_long  \\\n",
       "0  0b242abb623afc578575680df30655b9  1325376018  36.011293  -82.048315   \n",
       "1  1f76529f8574734946361c461b024d99  1325376044  49.159047 -118.186462   \n",
       "2  a1a22d70485983eac12b5b88dad1cf95  1325376051  43.150704 -112.154481   \n",
       "3  6b849c168bdad6f867558c3793159a81  1325376076  47.034331 -112.561071   \n",
       "4  a41d7549acf90789359a9aa5346dcb46  1325376186  38.674999  -78.632459   \n",
       "5  189a841a0a8ba03058526bcfe566aab5  1325376248  40.653382  -76.152667   \n",
       "6  83ec1cc84142af6e2acf10c44949e720  1325376282  37.162705 -100.153370   \n",
       "7  6d294ed2cc447d2c71c7171a3d54967c  1325376308  38.948089  -78.540296   \n",
       "8  fc28024ce480f8ef21a32d64c93a29f5  1325376318  40.351813  -79.958146   \n",
       "9  3b9014ea8fb80bd65de0b1463b00b00e  1325376361  37.179198  -87.485381   \n",
       "\n",
       "   is_fraud  \n",
       "0         0  \n",
       "1         0  \n",
       "2         0  \n",
       "3         0  \n",
       "4         0  \n",
       "5         0  \n",
       "6         0  \n",
       "7         0  \n",
       "8         0  \n",
       "9         0  \n",
       "\n",
       "[10 rows x 23 columns]"
      ]
     },
     "execution_count": 4,
     "metadata": {},
     "output_type": "execute_result"
    }
   ],
   "source": [
    "df_train.head(10)"
   ]
  },
  {
   "cell_type": "code",
   "execution_count": 5,
   "id": "1bc3b0e5-be2b-4281-8eb4-27ef20da1c8c",
   "metadata": {},
   "outputs": [
    {
     "data": {
      "text/plain": [
       "Index(['Unnamed: 0', 'trans_date_trans_time', 'cc_num', 'merchant', 'category',\n",
       "       'amt', 'first', 'last', 'gender', 'street', 'city', 'state', 'zip',\n",
       "       'lat', 'long', 'city_pop', 'job', 'dob', 'trans_num', 'unix_time',\n",
       "       'merch_lat', 'merch_long', 'is_fraud'],\n",
       "      dtype='object')"
      ]
     },
     "execution_count": 5,
     "metadata": {},
     "output_type": "execute_result"
    }
   ],
   "source": [
    "df_train.columns"
   ]
  },
  {
   "cell_type": "code",
   "execution_count": 6,
   "id": "abfca65f-77e1-4d9b-8971-877bb90297a1",
   "metadata": {},
   "outputs": [
    {
     "name": "stdout",
     "output_type": "stream",
     "text": [
      "<class 'pandas.core.frame.DataFrame'>\n",
      "RangeIndex: 1296675 entries, 0 to 1296674\n",
      "Data columns (total 23 columns):\n",
      " #   Column                 Non-Null Count    Dtype  \n",
      "---  ------                 --------------    -----  \n",
      " 0   Unnamed: 0             1296675 non-null  int64  \n",
      " 1   trans_date_trans_time  1296675 non-null  object \n",
      " 2   cc_num                 1296675 non-null  int64  \n",
      " 3   merchant               1296675 non-null  object \n",
      " 4   category               1296675 non-null  object \n",
      " 5   amt                    1296675 non-null  float64\n",
      " 6   first                  1296675 non-null  object \n",
      " 7   last                   1296675 non-null  object \n",
      " 8   gender                 1296675 non-null  object \n",
      " 9   street                 1296675 non-null  object \n",
      " 10  city                   1296675 non-null  object \n",
      " 11  state                  1296675 non-null  object \n",
      " 12  zip                    1296675 non-null  int64  \n",
      " 13  lat                    1296675 non-null  float64\n",
      " 14  long                   1296675 non-null  float64\n",
      " 15  city_pop               1296675 non-null  int64  \n",
      " 16  job                    1296675 non-null  object \n",
      " 17  dob                    1296675 non-null  object \n",
      " 18  trans_num              1296675 non-null  object \n",
      " 19  unix_time              1296675 non-null  int64  \n",
      " 20  merch_lat              1296675 non-null  float64\n",
      " 21  merch_long             1296675 non-null  float64\n",
      " 22  is_fraud               1296675 non-null  int64  \n",
      "dtypes: float64(5), int64(6), object(12)\n",
      "memory usage: 227.5+ MB\n"
     ]
    }
   ],
   "source": [
    "df_train.info()"
   ]
  },
  {
   "cell_type": "code",
   "execution_count": 7,
   "id": "bdb31f0b-c6f8-412d-8c32-48a83da8aec3",
   "metadata": {},
   "outputs": [
    {
     "name": "stdout",
     "output_type": "stream",
     "text": [
      "<class 'pandas.core.frame.DataFrame'>\n",
      "RangeIndex: 555719 entries, 0 to 555718\n",
      "Data columns (total 23 columns):\n",
      " #   Column                 Non-Null Count   Dtype  \n",
      "---  ------                 --------------   -----  \n",
      " 0   Unnamed: 0             555719 non-null  int64  \n",
      " 1   trans_date_trans_time  555719 non-null  object \n",
      " 2   cc_num                 555719 non-null  int64  \n",
      " 3   merchant               555719 non-null  object \n",
      " 4   category               555719 non-null  object \n",
      " 5   amt                    555719 non-null  float64\n",
      " 6   first                  555719 non-null  object \n",
      " 7   last                   555719 non-null  object \n",
      " 8   gender                 555719 non-null  object \n",
      " 9   street                 555719 non-null  object \n",
      " 10  city                   555719 non-null  object \n",
      " 11  state                  555719 non-null  object \n",
      " 12  zip                    555719 non-null  int64  \n",
      " 13  lat                    555719 non-null  float64\n",
      " 14  long                   555719 non-null  float64\n",
      " 15  city_pop               555719 non-null  int64  \n",
      " 16  job                    555719 non-null  object \n",
      " 17  dob                    555719 non-null  object \n",
      " 18  trans_num              555719 non-null  object \n",
      " 19  unix_time              555719 non-null  int64  \n",
      " 20  merch_lat              555719 non-null  float64\n",
      " 21  merch_long             555719 non-null  float64\n",
      " 22  is_fraud               555719 non-null  int64  \n",
      "dtypes: float64(5), int64(6), object(12)\n",
      "memory usage: 97.5+ MB\n"
     ]
    }
   ],
   "source": [
    "df_test.info()"
   ]
  },
  {
   "cell_type": "code",
   "execution_count": 8,
   "id": "58722617-3acd-4a06-a0bd-121b59253678",
   "metadata": {},
   "outputs": [
    {
     "data": {
      "text/plain": [
       "Unnamed: 0               0\n",
       "trans_date_trans_time    0\n",
       "cc_num                   0\n",
       "merchant                 0\n",
       "category                 0\n",
       "amt                      0\n",
       "first                    0\n",
       "last                     0\n",
       "gender                   0\n",
       "street                   0\n",
       "city                     0\n",
       "state                    0\n",
       "zip                      0\n",
       "lat                      0\n",
       "long                     0\n",
       "city_pop                 0\n",
       "job                      0\n",
       "dob                      0\n",
       "trans_num                0\n",
       "unix_time                0\n",
       "merch_lat                0\n",
       "merch_long               0\n",
       "is_fraud                 0\n",
       "dtype: int64"
      ]
     },
     "execution_count": 8,
     "metadata": {},
     "output_type": "execute_result"
    }
   ],
   "source": [
    "df_train.isnull().sum()"
   ]
  },
  {
   "cell_type": "code",
   "execution_count": 9,
   "id": "d8d4f43b-66a2-42d1-8dac-81d34e7a138f",
   "metadata": {},
   "outputs": [
    {
     "data": {
      "text/plain": [
       "Unnamed: 0               0\n",
       "trans_date_trans_time    0\n",
       "cc_num                   0\n",
       "merchant                 0\n",
       "category                 0\n",
       "amt                      0\n",
       "first                    0\n",
       "last                     0\n",
       "gender                   0\n",
       "street                   0\n",
       "city                     0\n",
       "state                    0\n",
       "zip                      0\n",
       "lat                      0\n",
       "long                     0\n",
       "city_pop                 0\n",
       "job                      0\n",
       "dob                      0\n",
       "trans_num                0\n",
       "unix_time                0\n",
       "merch_lat                0\n",
       "merch_long               0\n",
       "is_fraud                 0\n",
       "dtype: int64"
      ]
     },
     "execution_count": 9,
     "metadata": {},
     "output_type": "execute_result"
    }
   ],
   "source": [
    "df_test.isnull().sum()"
   ]
  },
  {
   "cell_type": "code",
   "execution_count": 10,
   "id": "49640c3b-c77d-4cec-9db0-e553c1f34709",
   "metadata": {},
   "outputs": [
    {
     "data": {
      "text/plain": [
       "is_fraud\n",
       "0    1289169\n",
       "1       7506\n",
       "Name: count, dtype: int64"
      ]
     },
     "execution_count": 10,
     "metadata": {},
     "output_type": "execute_result"
    }
   ],
   "source": [
    "df_train['is_fraud'].value_counts()"
   ]
  },
  {
   "cell_type": "code",
   "execution_count": 11,
   "id": "749bb3bb-1fd9-431f-9b11-ea39e2867a31",
   "metadata": {},
   "outputs": [
    {
     "data": {
      "image/png": "[encoded data removed]",
      "text/plain": [
       "<Figure size 640x480 with 1 Axes>"
      ]
     },
     "metadata": {},
     "output_type": "display_data"
    }
   ],
   "source": [
    "df_train['is_fraud'].value_counts().plot(kind='bar',color=['salmon','lightblue']);\n"
   ]
  },
  {
   "cell_type": "markdown",
   "id": "e923e006-4a2e-43ee-9e2e-58cbf70faba5",
   "metadata": {},
   "source": [
    "### convert strings to categories"
   ]
  },
  {
   "cell_type": "code",
   "execution_count": 12,
   "id": "ac65ae8c-0cd3-4f78-b470-16af05be45d6",
   "metadata": {},
   "outputs": [
    {
     "name": "stdout",
     "output_type": "stream",
     "text": [
      "trans_date_trans_time\n",
      "merchant\n",
      "category\n",
      "first\n",
      "last\n",
      "gender\n",
      "street\n",
      "city\n",
      "state\n",
      "job\n",
      "dob\n",
      "trans_num\n"
     ]
    }
   ],
   "source": [
    "#find the columns which contains strings\n",
    "for label,content in df_train.items():\n",
    "    if pd.api.types.is_string_dtype(content):\n",
    "        print(label)"
   ]
  },
  {
   "cell_type": "code",
   "execution_count": 13,
   "id": "ca6d4957-1806-48a7-8482-81c1a90c7331",
   "metadata": {},
   "outputs": [],
   "source": [
    "# This will turn all the strings into category value\n",
    "for label,content in df_train.items():\n",
    "    if pd.api.types.is_string_dtype(content):\n",
    "        df_train[label]=content.astype(\"category\").cat.as_ordered()"
   ]
  },
  {
   "cell_type": "code",
   "execution_count": 39,
   "id": "cfc57686-f75d-4ebd-8181-c854445b09e0",
   "metadata": {},
   "outputs": [],
   "source": [
    "for label,content in df_test.items():\n",
    "    if pd.api.types.is_string_dtype(content):\n",
    "        df_test[label]=content.astype(\"category\").cat.as_ordered()"
   ]
  },
  {
   "cell_type": "code",
   "execution_count": 14,
   "id": "7d0cbe51-e775-480e-99e0-c99274b6cdc2",
   "metadata": {},
   "outputs": [
    {
     "name": "stdout",
     "output_type": "stream",
     "text": [
      "<class 'pandas.core.frame.DataFrame'>\n",
      "RangeIndex: 1296675 entries, 0 to 1296674\n",
      "Data columns (total 23 columns):\n",
      " #   Column                 Non-Null Count    Dtype   \n",
      "---  ------                 --------------    -----   \n",
      " 0   Unnamed: 0             1296675 non-null  int64   \n",
      " 1   trans_date_trans_time  1296675 non-null  category\n",
      " 2   cc_num                 1296675 non-null  int64   \n",
      " 3   merchant               1296675 non-null  category\n",
      " 4   category               1296675 non-null  category\n",
      " 5   amt                    1296675 non-null  float64 \n",
      " 6   first                  1296675 non-null  category\n",
      " 7   last                   1296675 non-null  category\n",
      " 8   gender                 1296675 non-null  category\n",
      " 9   street                 1296675 non-null  category\n",
      " 10  city                   1296675 non-null  category\n",
      " 11  state                  1296675 non-null  category\n",
      " 12  zip                    1296675 non-null  int64   \n",
      " 13  lat                    1296675 non-null  float64 \n",
      " 14  long                   1296675 non-null  float64 \n",
      " 15  city_pop               1296675 non-null  int64   \n",
      " 16  job                    1296675 non-null  category\n",
      " 17  dob                    1296675 non-null  category\n",
      " 18  trans_num              1296675 non-null  category\n",
      " 19  unix_time              1296675 non-null  int64   \n",
      " 20  merch_lat              1296675 non-null  float64 \n",
      " 21  merch_long             1296675 non-null  float64 \n",
      " 22  is_fraud               1296675 non-null  int64   \n",
      "dtypes: category(12), float64(5), int64(6)\n",
      "memory usage: 224.0 MB\n"
     ]
    }
   ],
   "source": [
    "df_train.info()"
   ]
  },
  {
   "cell_type": "markdown",
   "id": "bd41be18-2e67-4409-a362-b66bcf31db87",
   "metadata": {},
   "source": [
    "### turning categorical values into numbers"
   ]
  },
  {
   "cell_type": "code",
   "execution_count": 15,
   "id": "5409e4a1-41a5-421c-a7b9-82676d378abf",
   "metadata": {},
   "outputs": [
    {
     "name": "stdout",
     "output_type": "stream",
     "text": [
      "trans_date_trans_time\n",
      "merchant\n",
      "category\n",
      "first\n",
      "last\n",
      "gender\n",
      "street\n",
      "city\n",
      "state\n",
      "job\n",
      "dob\n",
      "trans_num\n"
     ]
    }
   ],
   "source": [
    "#check for columns which are not numeric\n",
    "for label,content in df_train.items():\n",
    "    if not pd.api.types.is_numeric_dtype(content):\n",
    "        print(label)"
   ]
  },
  {
   "cell_type": "code",
   "execution_count": 16,
   "id": "e053b7f3-78ae-4eb0-8ab5-e20e4e917834",
   "metadata": {},
   "outputs": [],
   "source": [
    "#turn categorical variables into numbers\n",
    "for label,content in df_train.items():\n",
    "    if not pd.api.types.is_numeric_dtype(content):\n",
    "        # Turn categories into numbers and add +1\n",
    "        df_train[label]=pd.Categorical(content).codes+1"
   ]
  },
  {
   "cell_type": "code",
   "execution_count": 40,
   "id": "d9cf042d-f64c-4b71-9db1-be0a8bf85a87",
   "metadata": {},
   "outputs": [],
   "source": [
    "for label,content in df_test.items():\n",
    "    if not pd.api.types.is_numeric_dtype(content):\n",
    "        # Turn categories into numbers and add +1\n",
    "        df_test[label]=pd.Categorical(content).codes+1"
   ]
  },
  {
   "cell_type": "markdown",
   "id": "855a96ab-b2a3-4956-b8e5-ea3dc4b8e34a",
   "metadata": {},
   "source": [
    "## Modelling"
   ]
  },
  {
   "cell_type": "code",
   "execution_count": 41,
   "id": "129703e8-24b6-4ccc-9aeb-08398975e882",
   "metadata": {},
   "outputs": [],
   "source": [
    "# split data into x and y\n",
    "X=df_train.drop(\"is_fraud\",axis=1)\n",
    "Y=df_train['is_fraud']\n",
    "test_data=df_test.drop(\"is_fraud\",axis=1)\n",
    "np.random.seed(42)\n",
    "X_train,X_test,Y_train,Y_test=train_test_split(X,Y,test_size=0.2)\n"
   ]
  },
  {
   "cell_type": "code",
   "execution_count": 37,
   "id": "d5cfc8c9-5a05-4500-95d0-143623ce46aa",
   "metadata": {},
   "outputs": [],
   "source": [
    "# put models in a dictionary\n",
    "models={\"Decision Tree\":tree.DecisionTreeClassifier(),\n",
    "        \"Random Forest\":RandomForestClassifier()}\n",
    "# create a function to fit and score data\n",
    "def fit_and_score(models,X_train,X_test,Y_train,Y_test):\n",
    "    \"\"\"\n",
    "    Fits and evaluate given ml models\n",
    "    models:a dict of different sk learn ml models\n",
    "    X_train:training data(no labels)\n",
    "    X_test:testing data(no labels)\n",
    "    Y_train:training labels\n",
    "    Y_test:testing labels\n",
    "    \"\"\"\n",
    "    #set random seeds\n",
    "    np.random.seed(42)\n",
    "    #loop through models\n",
    "    for name, model in models.items():\n",
    "        #fit the model to the data\n",
    "        print(f\"MODEL: {name}\")\n",
    "        model.fit(X_train,Y_train)\n",
    "        Y_pred = model.predict(X_test)\n",
    "        # Evaluation Metrics\n",
    "        accuracy=accuracy_score(Y_test, Y_pred)\n",
    "        precision=precision_score(Y_test, Y_pred)\n",
    "        recall=recall_score(Y_test, Y_pred)\n",
    "        f1=f1_score(Y_test, Y_pred)\n",
    "        print(f\"\\n Accuracy: {accuracy}\")\n",
    "        print(f\" Precision: {precision}\")\n",
    "        print(f\" Recall: {recall}\")\n",
    "        print(f\" F1 Score: {f1}\")\n",
    "        # Confusion Matrix\n",
    "        print(\"\\n Confusion Matrix:\")\n",
    "        print(confusion_matrix(Y_test, Y_pred))\n",
    "        # Classification Report\n",
    "        print(\"\\n Classification Report:\")\n",
    "        print(classification_report(Y_test, Y_pred))"
   ]
  },
  {
   "cell_type": "code",
   "execution_count": 38,
   "id": "b281b05a-e283-4a70-90b7-6e7258c95192",
   "metadata": {},
   "outputs": [
    {
     "name": "stdout",
     "output_type": "stream",
     "text": [
      "MODEL: Decision Tree\n",
      "\n",
      " Accuracy: 0.9961131355196946\n",
      " Precision: 0.6606022584692597\n",
      " Recall: 0.6927631578947369\n",
      " F1 Score: 0.6763005780346821\n",
      "\n",
      " Confusion Matrix:\n",
      "[[257274    541]\n",
      " [   467   1053]]\n",
      "\n",
      " Classification Report:\n",
      "              precision    recall  f1-score   support\n",
      "\n",
      "           0       1.00      1.00      1.00    257815\n",
      "           1       0.66      0.69      0.68      1520\n",
      "\n",
      "    accuracy                           1.00    259335\n",
      "   macro avg       0.83      0.85      0.84    259335\n",
      "weighted avg       1.00      1.00      1.00    259335\n",
      "\n",
      "MODEL: Random Forest\n",
      "\n",
      " Accuracy: 0.9977635105172846\n",
      " Precision: 0.915929203539823\n",
      " Recall: 0.680921052631579\n",
      " F1 Score: 0.7811320754716982\n",
      "\n",
      " Confusion Matrix:\n",
      "[[257720     95]\n",
      " [   485   1035]]\n",
      "\n",
      " Classification Report:\n",
      "              precision    recall  f1-score   support\n",
      "\n",
      "           0       1.00      1.00      1.00    257815\n",
      "           1       0.92      0.68      0.78      1520\n",
      "\n",
      "    accuracy                           1.00    259335\n",
      "   macro avg       0.96      0.84      0.89    259335\n",
      "weighted avg       1.00      1.00      1.00    259335\n",
      "\n"
     ]
    }
   ],
   "source": [
    "fit_and_score(models=models,X_train=X_train,X_test=X_test,Y_train=Y_train,Y_test=Y_test)"
   ]
  },
  {
   "cell_type": "markdown",
   "id": "b55530cb-b4bb-4db5-9d64-fd8e0fefdf28",
   "metadata": {},
   "source": [
    "### Making predictions on the test data"
   ]
  },
  {
   "cell_type": "code",
   "execution_count": 44,
   "id": "a125eb92-d4a2-475b-9d4a-38cd5b7e622b",
   "metadata": {},
   "outputs": [],
   "source": [
    "model1=tree.DecisionTreeClassifier()\n",
    "model1.fit(X_train,Y_train)\n",
    "X_test_predictions=model1.predict(test_data)\n",
    "df_test['Predicted_is_fraud']=X_test_predictions"
   ]
  },
  {
   "cell_type": "code",
   "execution_count": 45,
   "id": "8ba4be15-dc88-484c-9b0d-97ac5184c714",
   "metadata": {},
   "outputs": [
    {
     "name": "stdout",
     "output_type": "stream",
     "text": [
      "        Unnamed: 0  trans_date_trans_time            cc_num  merchant  \\\n",
      "0                0                      1  2291163933867244       320   \n",
      "1                1                      2  3573030041201292       592   \n",
      "2                2                      3  3598215285024754       612   \n",
      "3                3                      4  3591919803438423       223   \n",
      "4                4                      5  3526826139003047       293   \n",
      "...            ...                    ...               ...       ...   \n",
      "555714      555714                 544756    30560609640617       508   \n",
      "555715      555715                 544757  3556613125071656       265   \n",
      "555716      555716                 544758  6011724471098086       497   \n",
      "555717      555717                 544759     4079773899158        76   \n",
      "555718      555718                 544760  4170689372027579       126   \n",
      "\n",
      "        category     amt  first  last  gender  street  ...      long  \\\n",
      "0             11    2.86    152   116       2     342  ...  -80.9355   \n",
      "1             11   29.84    164   458       1     355  ... -110.4360   \n",
      "2              6   41.28     25   250       1     866  ...  -73.5365   \n",
      "3             10   60.05     43   458       2     321  ...  -80.8191   \n",
      "4             14    3.19    248   262       2     549  ...  -85.0170   \n",
      "...          ...     ...    ...   ...     ...     ...  ...       ...   \n",
      "555714         6   43.77    236   316       2     532  ...  -91.8912   \n",
      "555715         8  111.84    172   425       2     541  ...  -95.4401   \n",
      "555716         8   86.88     19   240       1     127  ... -118.9017   \n",
      "555717        14    7.99    112   343       2     664  ... -116.4493   \n",
      "555718         1   38.13    281   146       2     779  ...  -97.4798   \n",
      "\n",
      "        city_pop  job  dob  trans_num   unix_time  merch_lat  merch_long  \\\n",
      "0         333497  276  377      98700  1371816865  33.986391  -81.200714   \n",
      "1            302  393  761     108786  1371816873  39.450498 -109.960431   \n",
      "2          34496  260  422     433980  1371816893  40.495810  -74.196111   \n",
      "3          54767  408  719      71994  1371816915  28.812398  -80.883061   \n",
      "4           1126  197  178     190586  1371816917  44.959148  -85.884734   \n",
      "...          ...  ...  ...        ...         ...        ...         ...   \n",
      "555714       519  461  335     336392  1388534347  39.946837  -91.333331   \n",
      "555715     28739  199  891      70373  1388534349  29.661049  -96.186633   \n",
      "555716      3684  295  610     235089  1388534355  46.658340 -119.715054   \n",
      "555717       129   59  332      43547  1388534364  44.470525 -117.080888   \n",
      "555718    116001  277  814      50596  1388534374  36.210097  -97.036372   \n",
      "\n",
      "        is_fraud  Predicted_is_fraud  \n",
      "0              0                   0  \n",
      "1              0                   0  \n",
      "2              0                   0  \n",
      "3              0                   0  \n",
      "4              0                   0  \n",
      "...          ...                 ...  \n",
      "555714         0                   0  \n",
      "555715         0                   0  \n",
      "555716         0                   0  \n",
      "555717         0                   0  \n",
      "555718         0                   0  \n",
      "\n",
      "[555719 rows x 24 columns]\n"
     ]
    }
   ],
   "source": [
    "df_test.to_csv('predicted_is_fraud_dtc.csv', index=False)\n",
    "print(df_test)"
   ]
  },
  {
   "cell_type": "code",
   "execution_count": 46,
   "id": "575187f4-b071-4944-ad04-92f83e4c99c4",
   "metadata": {},
   "outputs": [],
   "source": [
    "model2=RandomForestClassifier()\n",
    "model2.fit(X_train,Y_train)\n",
    "X_test_predictions_1=model2.predict(test_data)\n",
    "df_test['Predicted_is_fraud']=X_test_predictions_1"
   ]
  },
  {
   "cell_type": "code",
   "execution_count": 47,
   "id": "140c001c-56e3-4185-b3d9-024993399c73",
   "metadata": {},
   "outputs": [
    {
     "name": "stdout",
     "output_type": "stream",
     "text": [
      "        Unnamed: 0  trans_date_trans_time            cc_num  merchant  \\\n",
      "0                0                      1  2291163933867244       320   \n",
      "1                1                      2  3573030041201292       592   \n",
      "2                2                      3  3598215285024754       612   \n",
      "3                3                      4  3591919803438423       223   \n",
      "4                4                      5  3526826139003047       293   \n",
      "...            ...                    ...               ...       ...   \n",
      "555714      555714                 544756    30560609640617       508   \n",
      "555715      555715                 544757  3556613125071656       265   \n",
      "555716      555716                 544758  6011724471098086       497   \n",
      "555717      555717                 544759     4079773899158        76   \n",
      "555718      555718                 544760  4170689372027579       126   \n",
      "\n",
      "        category     amt  first  last  gender  street  ...      long  \\\n",
      "0             11    2.86    152   116       2     342  ...  -80.9355   \n",
      "1             11   29.84    164   458       1     355  ... -110.4360   \n",
      "2              6   41.28     25   250       1     866  ...  -73.5365   \n",
      "3             10   60.05     43   458       2     321  ...  -80.8191   \n",
      "4             14    3.19    248   262       2     549  ...  -85.0170   \n",
      "...          ...     ...    ...   ...     ...     ...  ...       ...   \n",
      "555714         6   43.77    236   316       2     532  ...  -91.8912   \n",
      "555715         8  111.84    172   425       2     541  ...  -95.4401   \n",
      "555716         8   86.88     19   240       1     127  ... -118.9017   \n",
      "555717        14    7.99    112   343       2     664  ... -116.4493   \n",
      "555718         1   38.13    281   146       2     779  ...  -97.4798   \n",
      "\n",
      "        city_pop  job  dob  trans_num   unix_time  merch_lat  merch_long  \\\n",
      "0         333497  276  377      98700  1371816865  33.986391  -81.200714   \n",
      "1            302  393  761     108786  1371816873  39.450498 -109.960431   \n",
      "2          34496  260  422     433980  1371816893  40.495810  -74.196111   \n",
      "3          54767  408  719      71994  1371816915  28.812398  -80.883061   \n",
      "4           1126  197  178     190586  1371816917  44.959148  -85.884734   \n",
      "...          ...  ...  ...        ...         ...        ...         ...   \n",
      "555714       519  461  335     336392  1388534347  39.946837  -91.333331   \n",
      "555715     28739  199  891      70373  1388534349  29.661049  -96.186633   \n",
      "555716      3684  295  610     235089  1388534355  46.658340 -119.715054   \n",
      "555717       129   59  332      43547  1388534364  44.470525 -117.080888   \n",
      "555718    116001  277  814      50596  1388534374  36.210097  -97.036372   \n",
      "\n",
      "        is_fraud  Predicted_is_fraud  \n",
      "0              0                   0  \n",
      "1              0                   0  \n",
      "2              0                   0  \n",
      "3              0                   0  \n",
      "4              0                   0  \n",
      "...          ...                 ...  \n",
      "555714         0                   0  \n",
      "555715         0                   0  \n",
      "555716         0                   0  \n",
      "555717         0                   0  \n",
      "555718         0                   0  \n",
      "\n",
      "[555719 rows x 24 columns]\n"
     ]
    }
   ],
   "source": [
    "df_test.to_csv('predicted_is_fraud_rfc.csv', index=False)\n",
    "print(df_test)"
   ]
  },
  {
   "cell_type": "markdown",
   "id": "26499ec2-d950-42c5-a6fb-e3dae1a6ee8a",
   "metadata": {},
   "source": [
    "### model pickeling"
   ]
  },
  {
   "cell_type": "code",
   "execution_count": 48,
   "id": "b699cac0-6cb8-4470-9318-cd2745c99644",
   "metadata": {},
   "outputs": [
    {
     "name": "stdout",
     "output_type": "stream",
     "text": [
      "Models pickled successfully.\n"
     ]
    }
   ],
   "source": [
    "import pickle\n",
    "with open('model1.pkl', 'wb') as file:\n",
    "    pickle.dump(model1, file)\n",
    "with open('model2.pkl', 'wb') as file:\n",
    "    pickle.dump(model2, file)\n",
    "print(\"Models pickled successfully.\")"
   ]
  },
  {
   "cell_type": "code",
   "execution_count": null,
   "id": "10fd8c05-b390-4ea5-acc1-b63aaafe5fa3",
   "metadata": {},
   "outputs": [],
   "source": []
  }
 ],
 "metadata": {
  "kernelspec": {
   "display_name": "Python 3 (ipykernel)",
   "language": "python",
   "name": "python3"
  },
  "language_info": {
   "codemirror_mode": {
    "name": "ipython",
    "version": 3
   },
   "file_extension": ".py",
   "mimetype": "text/x-python",
   "name": "python",
   "nbconvert_exporter": "python",
   "pygments_lexer": "ipython3",
   "version": "3.12.4"
  }
 },
 "nbformat": 4,
 "nbformat_minor": 5
}
