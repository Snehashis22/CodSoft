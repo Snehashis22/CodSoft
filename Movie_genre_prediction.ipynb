{
 "cells": [
  {
   "cell_type": "markdown",
   "id": "f638236f-e02a-41b0-a7eb-a84e05543bc8",
   "metadata": {},
   "source": [
    "# Movie Genre Prediction "
   ]
  },
  {
   "cell_type": "code",
   "execution_count": 1,
   "id": "7030325b-6cc9-4980-985e-99bca05a71c0",
   "metadata": {},
   "outputs": [],
   "source": [
    "import numpy as np\n",
    "import pandas as pd\n",
    "import matplotlib.pyplot as plt\n",
    "import sklearn\n",
    "from sklearn.feature_extraction.text import TfidfVectorizer\n",
    "#models\n",
    "from sklearn.linear_model import LogisticRegression\n",
    "from sklearn.naive_bayes import MultinomialNB\n",
    "#model evaluation\n",
    "from sklearn.model_selection import train_test_split\n",
    "from sklearn.metrics import accuracy_score,classification_report\n",
    "from sklearn.metrics import precision_score,recall_score,f1_score"
   ]
  },
  {
   "cell_type": "markdown",
   "id": "bb647a17-6798-4393-a7a0-cfda931cd97e",
   "metadata": {},
   "source": [
    "### import training data\n"
   ]
  },
  {
   "cell_type": "code",
   "execution_count": 3,
   "id": "fb05300b-c5e1-42f2-b318-5484406cecae",
   "metadata": {},
   "outputs": [
    {
     "name": "stderr",
     "output_type": "stream",
     "text": [
      "C:\\Users\\dell\\AppData\\Local\\Temp\\ipykernel_9424\\3079241456.py:1: ParserWarning: Falling back to the 'python' engine because the 'c' engine does not support regex separators (separators > 1 char and different from '\\s+' are interpreted as regex); you can avoid this warning by specifying engine='python'.\n",
      "  df_train=pd.read_csv(\"Genre Classification Dataset/train_data.txt\",sep=\":::\",names=[\"Title\",\"Genre\",\"Description\"])\n"
     ]
    },
    {
     "data": {
      "text/html": [
       "<div>\n",
       "<style scoped>\n",
       "    .dataframe tbody tr th:only-of-type {\n",
       "        vertical-align: middle;\n",
       "    }\n",
       "\n",
       "    .dataframe tbody tr th {\n",
       "        vertical-align: top;\n",
       "    }\n",
       "\n",
       "    .dataframe thead th {\n",
       "        text-align: right;\n",
       "    }\n",
       "</style>\n",
       "<table border=\"1\" class=\"dataframe\">\n",
       "  <thead>\n",
       "    <tr style=\"text-align: right;\">\n",
       "      <th></th>\n",
       "      <th>Title</th>\n",
       "      <th>Genre</th>\n",
       "      <th>Description</th>\n",
       "    </tr>\n",
       "  </thead>\n",
       "  <tbody>\n",
       "    <tr>\n",
       "      <th>1</th>\n",
       "      <td>Oscar et la dame rose (2009)</td>\n",
       "      <td>drama</td>\n",
       "      <td>Listening in to a conversation between his do...</td>\n",
       "    </tr>\n",
       "    <tr>\n",
       "      <th>2</th>\n",
       "      <td>Cupid (1997)</td>\n",
       "      <td>thriller</td>\n",
       "      <td>A brother and sister with a past incestuous r...</td>\n",
       "    </tr>\n",
       "    <tr>\n",
       "      <th>3</th>\n",
       "      <td>Young, Wild and Wonderful (1980)</td>\n",
       "      <td>adult</td>\n",
       "      <td>As the bus empties the students for their fie...</td>\n",
       "    </tr>\n",
       "    <tr>\n",
       "      <th>4</th>\n",
       "      <td>The Secret Sin (1915)</td>\n",
       "      <td>drama</td>\n",
       "      <td>To help their unemployed father make ends mee...</td>\n",
       "    </tr>\n",
       "    <tr>\n",
       "      <th>5</th>\n",
       "      <td>The Unrecovered (2007)</td>\n",
       "      <td>drama</td>\n",
       "      <td>The film's title refers not only to the un-re...</td>\n",
       "    </tr>\n",
       "    <tr>\n",
       "      <th>...</th>\n",
       "      <td>...</td>\n",
       "      <td>...</td>\n",
       "      <td>...</td>\n",
       "    </tr>\n",
       "    <tr>\n",
       "      <th>54210</th>\n",
       "      <td>\"Bonino\" (1953)</td>\n",
       "      <td>comedy</td>\n",
       "      <td>This short-lived NBC live sitcom centered on ...</td>\n",
       "    </tr>\n",
       "    <tr>\n",
       "      <th>54211</th>\n",
       "      <td>Dead Girls Don't Cry (????)</td>\n",
       "      <td>horror</td>\n",
       "      <td>The NEXT Generation of EXPLOITATION. The sist...</td>\n",
       "    </tr>\n",
       "    <tr>\n",
       "      <th>54212</th>\n",
       "      <td>Ronald Goedemondt: Ze bestaan echt (2008)</td>\n",
       "      <td>documentary</td>\n",
       "      <td>Ze bestaan echt, is a stand-up comedy about g...</td>\n",
       "    </tr>\n",
       "    <tr>\n",
       "      <th>54213</th>\n",
       "      <td>Make Your Own Bed (1944)</td>\n",
       "      <td>comedy</td>\n",
       "      <td>Walter and Vivian live in the country and hav...</td>\n",
       "    </tr>\n",
       "    <tr>\n",
       "      <th>54214</th>\n",
       "      <td>Nature's Fury: Storm of the Century (2006)</td>\n",
       "      <td>history</td>\n",
       "      <td>On Labor Day Weekend, 1935, the most intense ...</td>\n",
       "    </tr>\n",
       "  </tbody>\n",
       "</table>\n",
       "<p>54214 rows × 3 columns</p>\n",
       "</div>"
      ],
      "text/plain": [
       "                                              Title          Genre  \\\n",
       "1                     Oscar et la dame rose (2009)          drama    \n",
       "2                                     Cupid (1997)       thriller    \n",
       "3                 Young, Wild and Wonderful (1980)          adult    \n",
       "4                            The Secret Sin (1915)          drama    \n",
       "5                           The Unrecovered (2007)          drama    \n",
       "...                                             ...            ...   \n",
       "54210                              \"Bonino\" (1953)         comedy    \n",
       "54211                  Dead Girls Don't Cry (????)         horror    \n",
       "54212    Ronald Goedemondt: Ze bestaan echt (2008)    documentary    \n",
       "54213                     Make Your Own Bed (1944)         comedy    \n",
       "54214   Nature's Fury: Storm of the Century (2006)        history    \n",
       "\n",
       "                                             Description  \n",
       "1       Listening in to a conversation between his do...  \n",
       "2       A brother and sister with a past incestuous r...  \n",
       "3       As the bus empties the students for their fie...  \n",
       "4       To help their unemployed father make ends mee...  \n",
       "5       The film's title refers not only to the un-re...  \n",
       "...                                                  ...  \n",
       "54210   This short-lived NBC live sitcom centered on ...  \n",
       "54211   The NEXT Generation of EXPLOITATION. The sist...  \n",
       "54212   Ze bestaan echt, is a stand-up comedy about g...  \n",
       "54213   Walter and Vivian live in the country and hav...  \n",
       "54214   On Labor Day Weekend, 1935, the most intense ...  \n",
       "\n",
       "[54214 rows x 3 columns]"
      ]
     },
     "execution_count": 3,
     "metadata": {},
     "output_type": "execute_result"
    }
   ],
   "source": [
    "df_train=pd.read_csv(\"Genre Classification Dataset/train_data.txt\",sep=\":::\",names=[\"Title\",\"Genre\",\"Description\"])\n",
    "df_train"
   ]
  },
  {
   "cell_type": "code",
   "execution_count": 4,
   "id": "cc47f5ae-965b-4647-b7fe-c6507f16f6fa",
   "metadata": {},
   "outputs": [
    {
     "name": "stdout",
     "output_type": "stream",
     "text": [
      "<class 'pandas.core.frame.DataFrame'>\n",
      "Index: 54214 entries, 1 to 54214\n",
      "Data columns (total 3 columns):\n",
      " #   Column       Non-Null Count  Dtype \n",
      "---  ------       --------------  ----- \n",
      " 0   Title        54214 non-null  object\n",
      " 1   Genre        54214 non-null  object\n",
      " 2   Description  54214 non-null  object\n",
      "dtypes: object(3)\n",
      "memory usage: 1.7+ MB\n"
     ]
    }
   ],
   "source": [
    "df_train.info()"
   ]
  },
  {
   "cell_type": "code",
   "execution_count": 5,
   "id": "26c3c6d0-9920-4dff-b326-00f54a976142",
   "metadata": {},
   "outputs": [
    {
     "data": {
      "text/plain": [
       "Title          0\n",
       "Genre          0\n",
       "Description    0\n",
       "dtype: int64"
      ]
     },
     "execution_count": 5,
     "metadata": {},
     "output_type": "execute_result"
    }
   ],
   "source": [
    "df_train.isnull().sum()"
   ]
  },
  {
   "cell_type": "markdown",
   "id": "1dba6958-77e0-4be7-addf-4a0678b6f6a4",
   "metadata": {},
   "source": [
    "### Number of movies in each Genre\n"
   ]
  },
  {
   "cell_type": "code",
   "execution_count": 6,
   "id": "e1ad9453-4ac0-4937-aaf6-07e39c07633a",
   "metadata": {},
   "outputs": [
    {
     "name": "stdout",
     "output_type": "stream",
     "text": [
      "Genre\n",
      "drama           13613\n",
      "documentary     13096\n",
      "comedy           7447\n",
      "short            5073\n",
      "horror           2204\n",
      "thriller         1591\n",
      "action           1315\n",
      "western          1032\n",
      "reality-tv        884\n",
      "family            784\n",
      "adventure         775\n",
      "music             731\n",
      "romance           672\n",
      "sci-fi            647\n",
      "adult             590\n",
      "crime             505\n",
      "animation         498\n",
      "sport             432\n",
      "talk-show         391\n",
      "fantasy           323\n",
      "mystery           319\n",
      "musical           277\n",
      "biography         265\n",
      "history           243\n",
      "game-show         194\n",
      "news              181\n",
      "war               132\n",
      "Name: count, dtype: int64\n"
     ]
    }
   ],
   "source": [
    "movie_class=df_train[\"Genre\"].value_counts()\n",
    "print(movie_class)"
   ]
  },
  {
   "cell_type": "markdown",
   "id": "ab7842ea-38a1-4ed7-bfba-fe98025608f9",
   "metadata": {},
   "source": [
    "### Plotting no. of movies in each genre"
   ]
  },
  {
   "cell_type": "code",
   "execution_count": 7,
   "id": "7ae8b11d-e36e-45aa-8c5c-5ad4c7ba1329",
   "metadata": {},
   "outputs": [
    {
     "data": {
      "image/png": "[encoded data removed]",
      "text/plain": [
       "<Figure size 1000x800 with 1 Axes>"
      ]
     },
     "metadata": {},
     "output_type": "display_data"
    }
   ],
   "source": [
    "plt.figure(figsize=(10, 8))\n",
    "movie_class.plot(kind='barh', color='salmon')\n",
    "plt.title('Movies according to genre')\n",
    "plt.xlabel('Frequency')\n",
    "plt.ylabel('Genre')\n",
    "plt.xticks(rotation=75)\n",
    "plt.show()"
   ]
  },
  {
   "cell_type": "markdown",
   "id": "b7d9e2d6-c0af-40f4-a693-960c13b22905",
   "metadata": {},
   "source": [
    "### import test data"
   ]
  },
  {
   "cell_type": "code",
   "execution_count": 8,
   "id": "70892dd7-36bf-494b-8eea-29e6fd99bdbc",
   "metadata": {},
   "outputs": [
    {
     "name": "stderr",
     "output_type": "stream",
     "text": [
      "C:\\Users\\dell\\AppData\\Local\\Temp\\ipykernel_9424\\4236969570.py:1: ParserWarning: Falling back to the 'python' engine because the 'c' engine does not support regex separators (separators > 1 char and different from '\\s+' are interpreted as regex); you can avoid this warning by specifying engine='python'.\n",
      "  df_test=pd.read_csv(\"Genre Classification Dataset/test_data.txt\",sep=\":::\",names=[\"ID\",\"Title\",\"Description\"])\n"
     ]
    },
    {
     "data": {
      "text/html": [
       "<div>\n",
       "<style scoped>\n",
       "    .dataframe tbody tr th:only-of-type {\n",
       "        vertical-align: middle;\n",
       "    }\n",
       "\n",
       "    .dataframe tbody tr th {\n",
       "        vertical-align: top;\n",
       "    }\n",
       "\n",
       "    .dataframe thead th {\n",
       "        text-align: right;\n",
       "    }\n",
       "</style>\n",
       "<table border=\"1\" class=\"dataframe\">\n",
       "  <thead>\n",
       "    <tr style=\"text-align: right;\">\n",
       "      <th></th>\n",
       "      <th>ID</th>\n",
       "      <th>Title</th>\n",
       "      <th>Description</th>\n",
       "    </tr>\n",
       "  </thead>\n",
       "  <tbody>\n",
       "    <tr>\n",
       "      <th>0</th>\n",
       "      <td>1</td>\n",
       "      <td>Edgar's Lunch (1998)</td>\n",
       "      <td>L.R. Brane loves his life - his car, his apar...</td>\n",
       "    </tr>\n",
       "    <tr>\n",
       "      <th>1</th>\n",
       "      <td>2</td>\n",
       "      <td>La guerra de papá (1977)</td>\n",
       "      <td>Spain, March 1964: Quico is a very naughty ch...</td>\n",
       "    </tr>\n",
       "    <tr>\n",
       "      <th>2</th>\n",
       "      <td>3</td>\n",
       "      <td>Off the Beaten Track (2010)</td>\n",
       "      <td>One year in the life of Albin and his family ...</td>\n",
       "    </tr>\n",
       "    <tr>\n",
       "      <th>3</th>\n",
       "      <td>4</td>\n",
       "      <td>Meu Amigo Hindu (2015)</td>\n",
       "      <td>His father has died, he hasn't spoken with hi...</td>\n",
       "    </tr>\n",
       "    <tr>\n",
       "      <th>4</th>\n",
       "      <td>5</td>\n",
       "      <td>Er nu zhai (1955)</td>\n",
       "      <td>Before he was known internationally as a mart...</td>\n",
       "    </tr>\n",
       "    <tr>\n",
       "      <th>...</th>\n",
       "      <td>...</td>\n",
       "      <td>...</td>\n",
       "      <td>...</td>\n",
       "    </tr>\n",
       "    <tr>\n",
       "      <th>54195</th>\n",
       "      <td>54196</td>\n",
       "      <td>\"Tales of Light &amp; Dark\" (2013)</td>\n",
       "      <td>Covering multiple genres, Tales of Light &amp; Da...</td>\n",
       "    </tr>\n",
       "    <tr>\n",
       "      <th>54196</th>\n",
       "      <td>54197</td>\n",
       "      <td>Der letzte Mohikaner (1965)</td>\n",
       "      <td>As Alice and Cora Munro attempt to find their...</td>\n",
       "    </tr>\n",
       "    <tr>\n",
       "      <th>54197</th>\n",
       "      <td>54198</td>\n",
       "      <td>Oliver Twink (2007)</td>\n",
       "      <td>A movie 169 years in the making. Oliver Twist...</td>\n",
       "    </tr>\n",
       "    <tr>\n",
       "      <th>54198</th>\n",
       "      <td>54199</td>\n",
       "      <td>Slipstream (1973)</td>\n",
       "      <td>Popular, but mysterious rock D.J Mike Mallard...</td>\n",
       "    </tr>\n",
       "    <tr>\n",
       "      <th>54199</th>\n",
       "      <td>54200</td>\n",
       "      <td>Curitiba Zero Grau (2010)</td>\n",
       "      <td>Curitiba is a city in movement, with rhythms ...</td>\n",
       "    </tr>\n",
       "  </tbody>\n",
       "</table>\n",
       "<p>54200 rows × 3 columns</p>\n",
       "</div>"
      ],
      "text/plain": [
       "          ID                             Title  \\\n",
       "0          1             Edgar's Lunch (1998)    \n",
       "1          2         La guerra de papá (1977)    \n",
       "2          3      Off the Beaten Track (2010)    \n",
       "3          4           Meu Amigo Hindu (2015)    \n",
       "4          5                Er nu zhai (1955)    \n",
       "...      ...                               ...   \n",
       "54195  54196   \"Tales of Light & Dark\" (2013)    \n",
       "54196  54197      Der letzte Mohikaner (1965)    \n",
       "54197  54198              Oliver Twink (2007)    \n",
       "54198  54199                Slipstream (1973)    \n",
       "54199  54200        Curitiba Zero Grau (2010)    \n",
       "\n",
       "                                             Description  \n",
       "0       L.R. Brane loves his life - his car, his apar...  \n",
       "1       Spain, March 1964: Quico is a very naughty ch...  \n",
       "2       One year in the life of Albin and his family ...  \n",
       "3       His father has died, he hasn't spoken with hi...  \n",
       "4       Before he was known internationally as a mart...  \n",
       "...                                                  ...  \n",
       "54195   Covering multiple genres, Tales of Light & Da...  \n",
       "54196   As Alice and Cora Munro attempt to find their...  \n",
       "54197   A movie 169 years in the making. Oliver Twist...  \n",
       "54198   Popular, but mysterious rock D.J Mike Mallard...  \n",
       "54199   Curitiba is a city in movement, with rhythms ...  \n",
       "\n",
       "[54200 rows x 3 columns]"
      ]
     },
     "execution_count": 8,
     "metadata": {},
     "output_type": "execute_result"
    }
   ],
   "source": [
    "df_test=pd.read_csv(\"Genre Classification Dataset/test_data.txt\",sep=\":::\",names=[\"ID\",\"Title\",\"Description\"])\n",
    "df_test"
   ]
  },
  {
   "cell_type": "code",
   "execution_count": 9,
   "id": "1b26ee69-aded-4fab-a541-d731a82ce249",
   "metadata": {},
   "outputs": [
    {
     "name": "stdout",
     "output_type": "stream",
     "text": [
      "<class 'pandas.core.frame.DataFrame'>\n",
      "RangeIndex: 54200 entries, 0 to 54199\n",
      "Data columns (total 3 columns):\n",
      " #   Column       Non-Null Count  Dtype \n",
      "---  ------       --------------  ----- \n",
      " 0   ID           54200 non-null  int64 \n",
      " 1   Title        54200 non-null  object\n",
      " 2   Description  54200 non-null  object\n",
      "dtypes: int64(1), object(2)\n",
      "memory usage: 1.2+ MB\n"
     ]
    }
   ],
   "source": [
    "df_test.info()"
   ]
  },
  {
   "cell_type": "code",
   "execution_count": 10,
   "id": "0af1d1d8-1d78-41a9-a2a1-01b4424c3b41",
   "metadata": {},
   "outputs": [
    {
     "data": {
      "text/plain": [
       "ID             0\n",
       "Title          0\n",
       "Description    0\n",
       "dtype: int64"
      ]
     },
     "execution_count": 10,
     "metadata": {},
     "output_type": "execute_result"
    }
   ],
   "source": [
    "df_test.isnull().sum()"
   ]
  },
  {
   "cell_type": "markdown",
   "id": "8a67bd2b-26ee-4e06-a64d-dc519e909b53",
   "metadata": {},
   "source": [
    "### Modelling"
   ]
  },
  {
   "cell_type": "code",
   "execution_count": 11,
   "id": "a668467c-2217-4aa5-bd05-3ce06cd3555e",
   "metadata": {},
   "outputs": [],
   "source": [
    "# split data into x and y\n",
    "tfidf_vectorizer=TfidfVectorizer(max_features=5000)\n",
    "X=tfidf_vectorizer.fit_transform(df_train['Description'])\n",
    "Y=df_train['Genre']\n",
    "np.random.seed(42)\n",
    "X_train,X_test,Y_train,Y_test=train_test_split(X,Y,test_size=0.2)\n"
   ]
  },
  {
   "cell_type": "code",
   "execution_count": 12,
   "id": "e463e2c8-9a4e-4305-a707-5c81a42b0aee",
   "metadata": {},
   "outputs": [
    {
     "data": {
      "text/plain": [
       "<43371x5000 sparse matrix of type '<class 'numpy.float64'>'\n",
       "\twith 2458705 stored elements in Compressed Sparse Row format>"
      ]
     },
     "execution_count": 12,
     "metadata": {},
     "output_type": "execute_result"
    }
   ],
   "source": [
    "X_train"
   ]
  },
  {
   "cell_type": "code",
   "execution_count": 13,
   "id": "00d560a3-f426-4485-b4fb-50bdf9d9147c",
   "metadata": {},
   "outputs": [
    {
     "data": {
      "text/plain": [
       "1               drama \n",
       "2            thriller \n",
       "3               adult \n",
       "4               drama \n",
       "5               drama \n",
       "             ...      \n",
       "54210          comedy \n",
       "54211          horror \n",
       "54212     documentary \n",
       "54213          comedy \n",
       "54214         history \n",
       "Name: Genre, Length: 54214, dtype: object"
      ]
     },
     "execution_count": 13,
     "metadata": {},
     "output_type": "execute_result"
    }
   ],
   "source": [
    "Y"
   ]
  },
  {
   "cell_type": "markdown",
   "id": "0945f1a7-eb29-4396-8235-9010622f9008",
   "metadata": {},
   "source": [
    "### trying logistic regression"
   ]
  },
  {
   "cell_type": "code",
   "execution_count": 14,
   "id": "c4f62915-40fe-423b-8d56-ddea0c2ac75e",
   "metadata": {},
   "outputs": [
    {
     "name": "stderr",
     "output_type": "stream",
     "text": [
      "C:\\Users\\dell\\Desktop\\ML\\Movie-genre\\.env\\Lib\\site-packages\\sklearn\\linear_model\\_logistic.py:469: ConvergenceWarning: lbfgs failed to converge (status=1):\n",
      "STOP: TOTAL NO. of ITERATIONS REACHED LIMIT.\n",
      "\n",
      "Increase the number of iterations (max_iter) or scale the data as shown in:\n",
      "    https://scikit-learn.org/stable/modules/preprocessing.html\n",
      "Please also refer to the documentation for alternative solver options:\n",
      "    https://scikit-learn.org/stable/modules/linear_model.html#logistic-regression\n",
      "  n_iter_i = _check_optimize_result(\n"
     ]
    },
    {
     "data": {
      "text/plain": [
       "0.5905192289956654"
      ]
     },
     "execution_count": 14,
     "metadata": {},
     "output_type": "execute_result"
    }
   ],
   "source": [
    "#set random seeds\n",
    "np.random.seed(42)\n",
    "model=LogisticRegression()\n",
    "#fit the model to the data\n",
    "model.fit(X_train,Y_train)\n",
    "#evaluate the model and append its score to model_Scores\n",
    "model.score(X_test,Y_test)"
   ]
  },
  {
   "cell_type": "code",
   "execution_count": 15,
   "id": "7d3b51a2-0286-4005-a04e-11be92f40774",
   "metadata": {},
   "outputs": [
    {
     "data": {
      "text/plain": [
       "array([' drama ', ' drama ', ' documentary ', ..., ' drama ', ' drama ',\n",
       "       ' documentary '], dtype=object)"
      ]
     },
     "execution_count": 15,
     "metadata": {},
     "output_type": "execute_result"
    }
   ],
   "source": [
    "Y_pred=model.predict(X_train)\n",
    "Y_pred"
   ]
  },
  {
   "cell_type": "code",
   "execution_count": 16,
   "id": "d859fb58-4ebe-423c-a006-18419c265de7",
   "metadata": {},
   "outputs": [
    {
     "name": "stdout",
     "output_type": "stream",
     "text": [
      "Accuracy on training set: 0.666297756565447\n"
     ]
    },
    {
     "name": "stderr",
     "output_type": "stream",
     "text": [
      "C:\\Users\\dell\\Desktop\\ML\\Movie-genre\\.env\\Lib\\site-packages\\sklearn\\metrics\\_classification.py:1509: UndefinedMetricWarning: Precision is ill-defined and being set to 0.0 in labels with no predicted samples. Use `zero_division` parameter to control this behavior.\n",
      "  _warn_prf(average, modifier, f\"{metric.capitalize()} is\", len(result))\n",
      "C:\\Users\\dell\\Desktop\\ML\\Movie-genre\\.env\\Lib\\site-packages\\sklearn\\metrics\\_classification.py:1509: UndefinedMetricWarning: Precision is ill-defined and being set to 0.0 in labels with no predicted samples. Use `zero_division` parameter to control this behavior.\n",
      "  _warn_prf(average, modifier, f\"{metric.capitalize()} is\", len(result))\n"
     ]
    },
    {
     "name": "stdout",
     "output_type": "stream",
     "text": [
      "Classification Report on training set:\n",
      "                precision    recall  f1-score   support\n",
      "\n",
      "      action        0.65      0.39      0.49      1052\n",
      "       adult        0.83      0.38      0.52       478\n",
      "   adventure        0.77      0.25      0.38       636\n",
      "   animation        0.82      0.15      0.25       394\n",
      "   biography        0.00      0.00      0.00       204\n",
      "      comedy        0.63      0.70      0.66      6004\n",
      "       crime        0.55      0.09      0.15       398\n",
      " documentary        0.71      0.91      0.80     10437\n",
      "       drama        0.61      0.84      0.71     10916\n",
      "      family        0.71      0.17      0.27       634\n",
      "     fantasy        1.00      0.02      0.05       249\n",
      "   game-show        0.90      0.60      0.72       154\n",
      "     history        1.00      0.01      0.01       198\n",
      "      horror        0.76      0.70      0.73      1773\n",
      "       music        0.80      0.54      0.65       587\n",
      "     musical        0.72      0.06      0.11       227\n",
      "     mystery        1.00      0.02      0.03       263\n",
      "        news        0.88      0.10      0.17       147\n",
      "  reality-tv        0.71      0.32      0.44       692\n",
      "     romance        0.61      0.04      0.07       521\n",
      "      sci-fi        0.74      0.38      0.50       504\n",
      "       short        0.62      0.43      0.51      4028\n",
      "       sport        0.85      0.41      0.55       339\n",
      "   talk-show        0.81      0.29      0.43       310\n",
      "    thriller        0.65      0.23      0.34      1282\n",
      "         war        1.00      0.03      0.05       112\n",
      "     western        0.95      0.80      0.87       832\n",
      "\n",
      "     accuracy                           0.67     43371\n",
      "    macro avg       0.75      0.33      0.39     43371\n",
      " weighted avg       0.68      0.67      0.63     43371\n",
      "\n"
     ]
    },
    {
     "name": "stderr",
     "output_type": "stream",
     "text": [
      "C:\\Users\\dell\\Desktop\\ML\\Movie-genre\\.env\\Lib\\site-packages\\sklearn\\metrics\\_classification.py:1509: UndefinedMetricWarning: Precision is ill-defined and being set to 0.0 in labels with no predicted samples. Use `zero_division` parameter to control this behavior.\n",
      "  _warn_prf(average, modifier, f\"{metric.capitalize()} is\", len(result))\n"
     ]
    }
   ],
   "source": [
    "print(\"Accuracy on training set:\", accuracy_score(Y_train, Y_pred))\n",
    "print(\"Classification Report on training set:\\n\", classification_report(Y_train,Y_pred) )"
   ]
  },
  {
   "cell_type": "markdown",
   "id": "cc6c7374-e1f5-4990-ac66-453a90befbba",
   "metadata": {},
   "source": [
    "## Predictions"
   ]
  },
  {
   "cell_type": "code",
   "execution_count": 17,
   "id": "4b8d7053-9b37-45ac-9f4f-050cacb2a88f",
   "metadata": {},
   "outputs": [],
   "source": [
    "test_data=tfidf_vectorizer.fit_transform(df_test['Description'])"
   ]
  },
  {
   "cell_type": "code",
   "execution_count": 18,
   "id": "71ad508a-9b4c-4a48-81b6-6fdc0e629cc0",
   "metadata": {},
   "outputs": [],
   "source": [
    "X_test_predictions=model.predict(test_data)\n",
    "df_test['Predicted_Genre']=X_test_predictions"
   ]
  },
  {
   "cell_type": "code",
   "execution_count": 19,
   "id": "e3552316-0a90-402d-87ed-c1fa97859d83",
   "metadata": {},
   "outputs": [
    {
     "name": "stdout",
     "output_type": "stream",
     "text": [
      "          ID                             Title  \\\n",
      "0          1             Edgar's Lunch (1998)    \n",
      "1          2         La guerra de papá (1977)    \n",
      "2          3      Off the Beaten Track (2010)    \n",
      "3          4           Meu Amigo Hindu (2015)    \n",
      "4          5                Er nu zhai (1955)    \n",
      "...      ...                               ...   \n",
      "54195  54196   \"Tales of Light & Dark\" (2013)    \n",
      "54196  54197      Der letzte Mohikaner (1965)    \n",
      "54197  54198              Oliver Twink (2007)    \n",
      "54198  54199                Slipstream (1973)    \n",
      "54199  54200        Curitiba Zero Grau (2010)    \n",
      "\n",
      "                                             Description Predicted_Genre  \n",
      "0       L.R. Brane loves his life - his car, his apar...          drama   \n",
      "1       Spain, March 1964: Quico is a very naughty ch...          drama   \n",
      "2       One year in the life of Albin and his family ...          drama   \n",
      "3       His father has died, he hasn't spoken with hi...    documentary   \n",
      "4       Before he was known internationally as a mart...    documentary   \n",
      "...                                                  ...             ...  \n",
      "54195   Covering multiple genres, Tales of Light & Da...          drama   \n",
      "54196   As Alice and Cora Munro attempt to find their...         comedy   \n",
      "54197   A movie 169 years in the making. Oliver Twist...    documentary   \n",
      "54198   Popular, but mysterious rock D.J Mike Mallard...          drama   \n",
      "54199   Curitiba is a city in movement, with rhythms ...          drama   \n",
      "\n",
      "[54200 rows x 4 columns]\n"
     ]
    }
   ],
   "source": [
    "df_test.to_csv('predicted_genres.csv', index=False)\n",
    "print(df_test)"
   ]
  },
  {
   "cell_type": "markdown",
   "id": "00f17a76-9a66-4a49-92f9-98f029f29887",
   "metadata": {},
   "source": [
    "### model pickeling"
   ]
  },
  {
   "cell_type": "code",
   "execution_count": 20,
   "id": "6f146633-94c2-43c4-b06e-c2c11ec9bd85",
   "metadata": {},
   "outputs": [
    {
     "name": "stdout",
     "output_type": "stream",
     "text": [
      "Models pickled successfully.\n"
     ]
    }
   ],
   "source": [
    "import pickle\n",
    "with open('tfidf_vectorizer.pkl', 'wb') as file:\n",
    "    pickle.dump(tfidf_vectorizer, file)\n",
    "with open('model.pkl', 'wb') as file:\n",
    "    pickle.dump(model, file)\n",
    "print(\"Models pickled successfully.\")"
   ]
  },
  {
   "cell_type": "markdown",
   "id": "bc701be2-10b4-4504-8274-90b033489c3a",
   "metadata": {},
   "source": [
    "### trying naive bayes"
   ]
  },
  {
   "cell_type": "code",
   "execution_count": 21,
   "id": "23c4431c-6c0b-4619-8a93-bd164eba16ef",
   "metadata": {},
   "outputs": [
    {
     "data": {
      "text/plain": [
       "0.5120354145531679"
      ]
     },
     "execution_count": 21,
     "metadata": {},
     "output_type": "execute_result"
    }
   ],
   "source": [
    "#set random seeds\n",
    "np.random.seed(42)\n",
    "model1=MultinomialNB()\n",
    "#fit the model to the data\n",
    "model1.fit(X_train,Y_train)\n",
    "#evaluate the model and append its score to model_Scores\n",
    "model1.score(X_test,Y_test)"
   ]
  },
  {
   "cell_type": "code",
   "execution_count": 22,
   "id": "9905d249-d259-441f-977c-dd93703a1cef",
   "metadata": {},
   "outputs": [
    {
     "data": {
      "text/plain": [
       "array([' short ', ' drama ', ' documentary ', ..., ' drama ', ' comedy ',\n",
       "       ' documentary '], dtype='<U13')"
      ]
     },
     "execution_count": 22,
     "metadata": {},
     "output_type": "execute_result"
    }
   ],
   "source": [
    "Y_pred1=model1.predict(X_train)\n",
    "Y_pred1"
   ]
  },
  {
   "cell_type": "code",
   "execution_count": 23,
   "id": "fca7486b-818d-4459-91fc-34d56f3d1333",
   "metadata": {},
   "outputs": [
    {
     "name": "stdout",
     "output_type": "stream",
     "text": [
      "Accuracy on training set: 0.5315533420949482\n"
     ]
    },
    {
     "name": "stderr",
     "output_type": "stream",
     "text": [
      "C:\\Users\\dell\\Desktop\\ML\\Movie-genre\\.env\\Lib\\site-packages\\sklearn\\metrics\\_classification.py:1509: UndefinedMetricWarning: Precision is ill-defined and being set to 0.0 in labels with no predicted samples. Use `zero_division` parameter to control this behavior.\n",
      "  _warn_prf(average, modifier, f\"{metric.capitalize()} is\", len(result))\n",
      "C:\\Users\\dell\\Desktop\\ML\\Movie-genre\\.env\\Lib\\site-packages\\sklearn\\metrics\\_classification.py:1509: UndefinedMetricWarning: Precision is ill-defined and being set to 0.0 in labels with no predicted samples. Use `zero_division` parameter to control this behavior.\n",
      "  _warn_prf(average, modifier, f\"{metric.capitalize()} is\", len(result))\n"
     ]
    },
    {
     "name": "stdout",
     "output_type": "stream",
     "text": [
      "Classification Report on training set:\n",
      "                precision    recall  f1-score   support\n",
      "\n",
      "      action        0.75      0.06      0.11      1052\n",
      "       adult        0.92      0.03      0.05       478\n",
      "   adventure        0.84      0.05      0.09       636\n",
      "   animation        0.00      0.00      0.00       394\n",
      "   biography        0.00      0.00      0.00       204\n",
      "      comedy        0.56      0.45      0.50      6004\n",
      "       crime        0.00      0.00      0.00       398\n",
      " documentary        0.57      0.90      0.70     10437\n",
      "       drama        0.46      0.84      0.59     10916\n",
      "      family        1.00      0.00      0.00       634\n",
      "     fantasy        0.00      0.00      0.00       249\n",
      "   game-show        1.00      0.06      0.12       154\n",
      "     history        0.00      0.00      0.00       198\n",
      "      horror        0.80      0.33      0.47      1773\n",
      "       music        0.94      0.11      0.20       587\n",
      "     musical        0.00      0.00      0.00       227\n",
      "     mystery        0.00      0.00      0.00       263\n",
      "        news        0.00      0.00      0.00       147\n",
      "  reality-tv        0.71      0.01      0.01       692\n",
      "     romance        0.00      0.00      0.00       521\n",
      "      sci-fi        0.85      0.02      0.04       504\n",
      "       short        0.68      0.11      0.18      4028\n",
      "       sport        0.81      0.11      0.20       339\n",
      "   talk-show        1.00      0.00      0.01       310\n",
      "    thriller        0.96      0.02      0.04      1282\n",
      "         war        0.00      0.00      0.00       112\n",
      "     western        0.99      0.54      0.70       832\n",
      "\n",
      "     accuracy                           0.53     43371\n",
      "    macro avg       0.51      0.14      0.15     43371\n",
      " weighted avg       0.58      0.53      0.45     43371\n",
      "\n"
     ]
    },
    {
     "name": "stderr",
     "output_type": "stream",
     "text": [
      "C:\\Users\\dell\\Desktop\\ML\\Movie-genre\\.env\\Lib\\site-packages\\sklearn\\metrics\\_classification.py:1509: UndefinedMetricWarning: Precision is ill-defined and being set to 0.0 in labels with no predicted samples. Use `zero_division` parameter to control this behavior.\n",
      "  _warn_prf(average, modifier, f\"{metric.capitalize()} is\", len(result))\n"
     ]
    }
   ],
   "source": [
    "print(\"Accuracy on training set:\", accuracy_score(Y_train, Y_pred1))\n",
    "print(\"Classification Report on training set:\\n\", classification_report(Y_train,Y_pred1) )"
   ]
  },
  {
   "cell_type": "markdown",
   "id": "9447a66e-1658-4ac7-83d6-32c5e1ffacc3",
   "metadata": {},
   "source": [
    "## Predictions"
   ]
  },
  {
   "cell_type": "code",
   "execution_count": 24,
   "id": "9492b31f-61d8-4370-bbd4-d02b83d72d67",
   "metadata": {},
   "outputs": [],
   "source": [
    "X_test_predictions1=model1.predict(test_data)\n",
    "df_test['Predicted_Genre']=X_test_predictions1"
   ]
  },
  {
   "cell_type": "code",
   "execution_count": 25,
   "id": "e3f2493c-7419-49f8-aaea-22f41fbd1462",
   "metadata": {},
   "outputs": [
    {
     "name": "stdout",
     "output_type": "stream",
     "text": [
      "          ID                             Title  \\\n",
      "0          1             Edgar's Lunch (1998)    \n",
      "1          2         La guerra de papá (1977)    \n",
      "2          3      Off the Beaten Track (2010)    \n",
      "3          4           Meu Amigo Hindu (2015)    \n",
      "4          5                Er nu zhai (1955)    \n",
      "...      ...                               ...   \n",
      "54195  54196   \"Tales of Light & Dark\" (2013)    \n",
      "54196  54197      Der letzte Mohikaner (1965)    \n",
      "54197  54198              Oliver Twink (2007)    \n",
      "54198  54199                Slipstream (1973)    \n",
      "54199  54200        Curitiba Zero Grau (2010)    \n",
      "\n",
      "                                             Description Predicted_Genre  \n",
      "0       L.R. Brane loves his life - his car, his apar...          drama   \n",
      "1       Spain, March 1964: Quico is a very naughty ch...        romance   \n",
      "2       One year in the life of Albin and his family ...    documentary   \n",
      "3       His father has died, he hasn't spoken with hi...    documentary   \n",
      "4       Before he was known internationally as a mart...    documentary   \n",
      "...                                                  ...             ...  \n",
      "54195   Covering multiple genres, Tales of Light & Da...          drama   \n",
      "54196   As Alice and Cora Munro attempt to find their...          drama   \n",
      "54197   A movie 169 years in the making. Oliver Twist...    documentary   \n",
      "54198   Popular, but mysterious rock D.J Mike Mallard...          drama   \n",
      "54199   Curitiba is a city in movement, with rhythms ...          drama   \n",
      "\n",
      "[54200 rows x 4 columns]\n"
     ]
    }
   ],
   "source": [
    "df_test.to_csv('predicted_genres1.csv', index=False)\n",
    "print(df_test)"
   ]
  },
  {
   "cell_type": "markdown",
   "id": "e48dadc4-5fed-4f67-b48e-d7f11641614d",
   "metadata": {},
   "source": [
    "### Model Pickeling"
   ]
  },
  {
   "cell_type": "code",
   "execution_count": 26,
   "id": "1af10e8e-87b6-4f57-94ee-a166c1a95526",
   "metadata": {},
   "outputs": [
    {
     "name": "stdout",
     "output_type": "stream",
     "text": [
      "Models pickled successfully.\n"
     ]
    }
   ],
   "source": [
    "import pickle\n",
    "with open('tfidf_vectorizer.pkl', 'wb') as file:\n",
    "    pickle.dump(tfidf_vectorizer, file)\n",
    "with open('model1.pkl', 'wb') as file:\n",
    "    pickle.dump(model1, file)\n",
    "print(\"Models pickled successfully.\")"
   ]
  },
  {
   "cell_type": "code",
   "execution_count": null,
   "id": "9408fc31-70b0-4d06-9492-9487ad523199",
   "metadata": {},
   "outputs": [],
   "source": []
  }
 ],
 "metadata": {
  "kernelspec": {
   "display_name": "Python 3 (ipykernel)",
   "language": "python",
   "name": "python3"
  },
  "language_info": {
   "codemirror_mode": {
    "name": "ipython",
    "version": 3
   },
   "file_extension": ".py",
   "mimetype": "text/x-python",
   "name": "python",
   "nbconvert_exporter": "python",
   "pygments_lexer": "ipython3",
   "version": "3.12.4"
  }
 },
 "nbformat": 4,
 "nbformat_minor": 5
}
